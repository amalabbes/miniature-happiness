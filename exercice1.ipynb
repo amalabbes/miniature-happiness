{
  "nbformat": 4,
  "nbformat_minor": 0,
  "metadata": {
    "colab": {
      "name": "Untitled0.ipynb",
      "provenance": []
    },
    "kernelspec": {
      "name": "python3",
      "display_name": "Python 3"
    },
    "language_info": {
      "name": "python"
    }
  },
  "cells": [
    {
      "cell_type": "markdown",
      "metadata": {
        "id": "sjqeB4LRGhzQ"
      },
      "source": [
        ""
      ]
    },
    {
      "cell_type": "code",
      "metadata": {
        "id": "KCA31hQ87Irb"
      },
      "source": [
        "import numpy as np\n",
        "import matplotlib\n",
        "import os"
      ],
      "execution_count": null,
      "outputs": []
    },
    {
      "cell_type": "markdown",
      "metadata": {
        "id": "rVVF_b3y_1nQ"
      },
      "source": [
        "importation de la base de données "
      ]
    },
    {
      "cell_type": "code",
      "metadata": {
        "id": "Ovi1wNl2-1YY"
      },
      "source": [
        ""
      ],
      "execution_count": null,
      "outputs": []
    },
    {
      "cell_type": "markdown",
      "metadata": {
        "id": "xQOzxOE-GnvT"
      },
      "source": [
        "affichager quelque images de la base de données\n"
      ]
    },
    {
      "cell_type": "code",
      "metadata": {
        "id": "eKoqHNssGxYx"
      },
      "source": [
        ""
      ],
      "execution_count": null,
      "outputs": []
    },
    {
      "cell_type": "markdown",
      "metadata": {
        "id": "M0YXncdhHtwU"
      },
      "source": [
        "determiner la tailler des images"
      ]
    },
    {
      "cell_type": "code",
      "metadata": {
        "id": "BPLlM1EwHstw"
      },
      "source": [
        ""
      ],
      "execution_count": null,
      "outputs": []
    },
    {
      "cell_type": "markdown",
      "metadata": {
        "id": "jXadiHgkIKtw"
      },
      "source": [
        "Afficher le nombre des niveau de gris"
      ]
    },
    {
      "cell_type": "code",
      "metadata": {
        "id": "W_nHaXLoIQ2B"
      },
      "source": [
        ""
      ],
      "execution_count": null,
      "outputs": []
    },
    {
      "cell_type": "markdown",
      "metadata": {
        "id": "YNJ62ed7HE_-"
      },
      "source": [
        "#**Prétraitement des images**"
      ]
    },
    {
      "cell_type": "markdown",
      "metadata": {
        "id": "tj5JUUyCGzOf"
      },
      "source": [
        "appliquer l'opérateur CLAHE "
      ]
    },
    {
      "cell_type": "code",
      "metadata": {
        "id": "U97SmQN6HCfq"
      },
      "source": [
        ""
      ],
      "execution_count": null,
      "outputs": []
    },
    {
      "cell_type": "markdown",
      "metadata": {
        "id": "tNHHRdxEH4TZ"
      },
      "source": [
        "Affiche l'histograme avant et aprés CLAHE"
      ]
    },
    {
      "cell_type": "code",
      "metadata": {
        "id": "hKb9Eh0VH3yk"
      },
      "source": [
        ""
      ],
      "execution_count": null,
      "outputs": []
    }
  ]
}