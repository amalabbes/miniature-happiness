{
  "nbformat": 4,
  "nbformat_minor": 0,
  "metadata": {
    "colab": {
      "name": "Untitled0.ipynb",
      "provenance": [],
      "mount_file_id": "1T7Ka1cOgXU-B2RB-gw5echI0Cr1vOGdz",
      "authorship_tag": "ABX9TyN7WMZkoXIkJ9EP5GQ4rO1g",
      "include_colab_link": true
    },
    "kernelspec": {
      "name": "python3",
      "display_name": "Python 3"
    },
    "language_info": {
      "name": "python"
    }
  },
  "cells": [
    {
      "cell_type": "markdown",
      "metadata": {
        "id": "view-in-github",
        "colab_type": "text"
      },
      "source": [
        "<a href=\"https://colab.research.google.com/github/amalabbes/miniature-happiness/blob/main/tp1.ipynb\" target=\"_parent\"><img src=\"https://colab.research.google.com/assets/colab-badge.svg\" alt=\"Open In Colab\"/></a>"
      ]
    },
    {
      "cell_type": "markdown",
      "metadata": {
        "id": "sjqeB4LRGhzQ"
      },
      "source": [
        ""
      ]
    },
    {
      "cell_type": "code",
      "metadata": {
        "id": "KCA31hQ87Irb"
      },
      "source": [
        "import numpy as np\n",
        "import matplotlib\n",
        "import os"
      ],
      "execution_count": null,
      "outputs": []
    },
    {
      "cell_type": "markdown",
      "metadata": {
        "id": "rVVF_b3y_1nQ"
      },
      "source": [
        "importation de la base de données "
      ]
    },
    {
      "cell_type": "code",
      "metadata": {
        "id": "Ovi1wNl2-1YY"
      },
      "source": [
        ""
      ],
      "execution_count": null,
      "outputs": []
    },
    {
      "cell_type": "markdown",
      "metadata": {
        "id": "xQOzxOE-GnvT"
      },
      "source": [
        "affichager quelque images de la base de données\n"
      ]
    },
    {
      "cell_type": "code",
      "metadata": {
        "id": "eKoqHNssGxYx"
      },
      "source": [
        ""
      ],
      "execution_count": null,
      "outputs": []
    },
    {
      "cell_type": "markdown",
      "metadata": {
        "id": "M0YXncdhHtwU"
      },
      "source": [
        "determiner la tailler des images"
      ]
    },
    {
      "cell_type": "code",
      "metadata": {
        "id": "BPLlM1EwHstw"
      },
      "source": [
        ""
      ],
      "execution_count": null,
      "outputs": []
    },
    {
      "cell_type": "markdown",
      "metadata": {
        "id": "jXadiHgkIKtw"
      },
      "source": [
        "Afficher le nombre des niveau de gris"
      ]
    },
    {
      "cell_type": "code",
      "metadata": {
        "id": "W_nHaXLoIQ2B"
      },
      "source": [
        ""
      ],
      "execution_count": null,
      "outputs": []
    },
    {
      "cell_type": "markdown",
      "metadata": {
        "id": "YNJ62ed7HE_-"
      },
      "source": [
        "#**Prétraitement des images**"
      ]
    },
    {
      "cell_type": "markdown",
      "metadata": {
        "id": "tj5JUUyCGzOf"
      },
      "source": [
        "appliquer l'opérateur CLAHE "
      ]
    },
    {
      "cell_type": "code",
      "metadata": {
        "id": "U97SmQN6HCfq"
      },
      "source": [
        ""
      ],
      "execution_count": null,
      "outputs": []
    },
    {
      "cell_type": "markdown",
      "metadata": {
        "id": "tNHHRdxEH4TZ"
      },
      "source": [
        "Affiche l'histograme avant et aprés CLAHE"
      ]
    },
    {
      "cell_type": "code",
      "metadata": {
        "id": "hKb9Eh0VH3yk"
      },
      "source": [
        ""
      ],
      "execution_count": null,
      "outputs": []
    }
  ]
}